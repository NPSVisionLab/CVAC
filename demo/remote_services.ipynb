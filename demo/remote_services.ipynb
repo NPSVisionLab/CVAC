{
 "metadata": {
  "name": ""
 },
 "nbformat": 3,
 "nbformat_minor": 0,
 "worksheets": [
  {
   "cells": [
    {
     "cell_type": "markdown",
     "metadata": {},
     "source": [
      "# EasyCV mini tutorial\n",
      "## Send a file and invoke a remote service\n",
      "First, create a simple RunSet with just one unlabeled image. Make sure all file sin the RunSet are available on the remote site; it is the client's responsibility to upload them if not. The `putResult` contains information about which files were actuall transferred."
     ]
    },
    {
     "cell_type": "code",
     "collapsed": false,
     "input": [
      "import easy\n",
      "rs1 = easy.createRunSet( \"testImg/italia.jpg\" )\n",
      "easy.printRunSetInfo(rs1)\n",
      "subs = easy.collectSubstrates(rs1)\n",
      "print [x for x in subs]\n",
      "\n",
      "print(\"------- Copy files to the remote service: -------\")\n",
      "host = \"-h 192.168.9.4\"\n",
      "fileserver = easy.getFileServer( \"PythonFileService:default -p 10111 \" + host )\n",
      "putResult = easy.putAllFiles( fileserver, rs1 )\n",
      "modelfile = \"detectors/haarcascade_frontalface_alt.xml\"\n",
      "if not fileserver.exists( easy.getCvacPath(modelfile) ):\n",
      "    easy.putFile( fileserver, easy.getCvacPath(modelfile) )\n",
      "\n",
      "print(\"------- Remote detection, local result display: -------\")\n",
      "detector = easy.getDetector( \"OpenCVCascadeDetector:default -p 10102 \"+host )\n",
      "results = easy.detect( detector, modelfile, rs1 )\n",
      "easy.printResults( results )"
     ],
     "language": "python",
     "metadata": {},
     "outputs": []
    },
    {
     "cell_type": "markdown",
     "metadata": {},
     "source": [
      "After running the cell above, you should see the following output:\n",
      "\n",
      "`\n",
      "sequence with Purpose 'UNPURPOSED' and 1 labeled artifacts:\n",
      "  italia.jpg (1 label)\n",
      "['/home/vagrant/easycv/data/testImg/italia.jpg']\n",
      "------- Copy files to the remote service: -------\n",
      "------- Remote detection, local result display: -------\n",
      "received a total of 1 results.\n",
      "result for italia.jpg (unpurposed): found 13 labels: positive, positive, positive, positive, positive, positive, positive, positive, positive, positive, positive, positive, positive\n",
      "`"
     ]
    },
    {
     "cell_type": "code",
     "collapsed": false,
     "input": [],
     "language": "python",
     "metadata": {},
     "outputs": []
    }
   ],
   "metadata": {}
  }
 ]
}