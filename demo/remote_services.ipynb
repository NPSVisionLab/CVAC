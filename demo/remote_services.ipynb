{
 "cells": [
  {
   "cell_type": "markdown",
   "metadata": {},
   "source": [
    "# EasyCV  mini tutorial\n",
    "## Send a file and invoke a remote service\n",
    "First, create a simple RunSet with just one unlabeled image. Make sure all files in the RunSet are available on the remote site; it is the client's responsibility to upload them if not. The `putResult` contains information about which files were actually transferred."
   ]
  },
  {
   "cell_type": "code",
   "execution_count": 1,
   "metadata": {
    "collapsed": false
   },
   "outputs": [
    {
     "ename": "ImportError",
     "evalue": "dlopen(/Users/matz/PROJECTS/CVAC/build_client/installed/EasyCV/python/icePkg/IcePy.so, 2): Library not loaded: @rpath/libIce.35.dylib\n  Referenced from: /Users/matz/PROJECTS/CVAC/build_client/installed/EasyCV/python/icePkg/IcePy.so\n  Reason: image not found",
     "output_type": "error",
     "traceback": [
      "\u001b[0;31m---------------------------------------------------------------------------\u001b[0m",
      "\u001b[0;31mImportError\u001b[0m                               Traceback (most recent call last)",
      "\u001b[0;32m<ipython-input-1-95d7e579f347>\u001b[0m in \u001b[0;36m<module>\u001b[0;34m()\u001b[0m\n\u001b[0;32m----> 1\u001b[0;31m \u001b[0;32mimport\u001b[0m \u001b[0measy\u001b[0m\u001b[0;34m\u001b[0m\u001b[0m\n\u001b[0m\u001b[1;32m      2\u001b[0m \u001b[0;34m\u001b[0m\u001b[0m\n\u001b[1;32m      3\u001b[0m \u001b[0mrs1\u001b[0m \u001b[0;34m=\u001b[0m \u001b[0measy\u001b[0m\u001b[0;34m.\u001b[0m\u001b[0mcreateRunSet\u001b[0m\u001b[0;34m(\u001b[0m \u001b[0;34m\"testImg/italia.jpg\"\u001b[0m \u001b[0;34m)\u001b[0m\u001b[0;34m\u001b[0m\u001b[0m\n\u001b[1;32m      4\u001b[0m \u001b[0measy\u001b[0m\u001b[0;34m.\u001b[0m\u001b[0mprintRunSetInfo\u001b[0m\u001b[0;34m(\u001b[0m\u001b[0mrs1\u001b[0m\u001b[0;34m)\u001b[0m\u001b[0;34m\u001b[0m\u001b[0m\n\u001b[1;32m      5\u001b[0m \u001b[0msubs\u001b[0m \u001b[0;34m=\u001b[0m \u001b[0measy\u001b[0m\u001b[0;34m.\u001b[0m\u001b[0mcollectSubstrates\u001b[0m\u001b[0;34m(\u001b[0m\u001b[0mrs1\u001b[0m\u001b[0;34m)\u001b[0m\u001b[0;34m\u001b[0m\u001b[0m\n",
      "\u001b[0;32m/Users/matz/PROJECTS/CVAC/build_client/installed/EasyCV/python/easyPkg/easy/__init__.py\u001b[0m in \u001b[0;36m<module>\u001b[0;34m()\u001b[0m\n\u001b[0;32m----> 1\u001b[0;31m \u001b[0;32mfrom\u001b[0m \u001b[0measy\u001b[0m \u001b[0;32mimport\u001b[0m \u001b[0;34m*\u001b[0m\u001b[0;34m\u001b[0m\u001b[0m\n\u001b[0m\u001b[1;32m      2\u001b[0m \u001b[0;32mfrom\u001b[0m \u001b[0mutil\u001b[0m \u001b[0;32mimport\u001b[0m \u001b[0;34m*\u001b[0m\u001b[0;34m\u001b[0m\u001b[0m\n\u001b[1;32m      3\u001b[0m \u001b[0;32mfrom\u001b[0m \u001b[0mversion\u001b[0m \u001b[0;32mimport\u001b[0m \u001b[0;34m*\u001b[0m\u001b[0;34m\u001b[0m\u001b[0m\n",
      "\u001b[0;32m/Users/matz/PROJECTS/CVAC/build_client/installed/EasyCV/python/easyPkg/easy/easy.py\u001b[0m in \u001b[0;36m<module>\u001b[0;34m()\u001b[0m\n\u001b[1;32m     21\u001b[0m \u001b[0;31m# export PYTHONPATH=\"/opt/Ice-3.4.2/python:./src/easy\"\u001b[0m\u001b[0;34m\u001b[0m\u001b[0;34m\u001b[0m\u001b[0m\n\u001b[1;32m     22\u001b[0m \u001b[0msys\u001b[0m\u001b[0;34m.\u001b[0m\u001b[0mpath\u001b[0m\u001b[0;34m.\u001b[0m\u001b[0mappend\u001b[0m\u001b[0;34m(\u001b[0m\u001b[0;34m'''.'''\u001b[0m\u001b[0;34m)\u001b[0m\u001b[0;34m\u001b[0m\u001b[0m\n\u001b[0;32m---> 23\u001b[0;31m \u001b[0;32mimport\u001b[0m \u001b[0mIce\u001b[0m\u001b[0;34m\u001b[0m\u001b[0m\n\u001b[0m\u001b[1;32m     24\u001b[0m \u001b[0;32mimport\u001b[0m \u001b[0mIcePy\u001b[0m\u001b[0;34m\u001b[0m\u001b[0m\n\u001b[1;32m     25\u001b[0m \u001b[0;32mimport\u001b[0m \u001b[0mcvac\u001b[0m\u001b[0;34m\u001b[0m\u001b[0m\n",
      "\u001b[0;32m/Users/matz/PROJECTS/CVAC/build_client/installed/EasyCV/python/icePkg/Ice.py\u001b[0m in \u001b[0;36m<module>\u001b[0;34m()\u001b[0m\n\u001b[1;32m     45\u001b[0m \u001b[0;31m# Import the Python extension.\u001b[0m\u001b[0;34m\u001b[0m\u001b[0;34m\u001b[0m\u001b[0m\n\u001b[1;32m     46\u001b[0m \u001b[0;31m#\u001b[0m\u001b[0;34m\u001b[0m\u001b[0;34m\u001b[0m\u001b[0m\n\u001b[0;32m---> 47\u001b[0;31m \u001b[0;32mimport\u001b[0m \u001b[0mIcePy\u001b[0m\u001b[0;34m\u001b[0m\u001b[0m\n\u001b[0m\u001b[1;32m     48\u001b[0m \u001b[0;34m\u001b[0m\u001b[0m\n\u001b[1;32m     49\u001b[0m \u001b[0;31m#\u001b[0m\u001b[0;34m\u001b[0m\u001b[0;34m\u001b[0m\u001b[0m\n",
      "\u001b[0;31mImportError\u001b[0m: dlopen(/Users/matz/PROJECTS/CVAC/build_client/installed/EasyCV/python/icePkg/IcePy.so, 2): Library not loaded: @rpath/libIce.35.dylib\n  Referenced from: /Users/matz/PROJECTS/CVAC/build_client/installed/EasyCV/python/icePkg/IcePy.so\n  Reason: image not found"
     ]
    }
   ],
   "source": [
    "import easy\n",
    "\n",
    "rs1 = easy.createRunSet( \"testImg/italia.jpg\" )\n",
    "easy.printRunSetInfo(rs1)\n",
    "subs = easy.collectSubstrates(rs1)\n",
    "print [x for x in subs]\n",
    "\n",
    "print(\"------- Copy files to the remote service: -------\")\n",
    "host = \"-h 192.168.9.4\"\n",
    "fileserver = easy.getFileServer( \"PythonFileService:default -p 10111 \" + host )\n",
    "putResult = easy.putAllFiles( fileserver, rs1 )\n",
    "modelfile = \"detectors/haarcascade_frontalface_alt.xml\"\n",
    "if not fileserver.exists( easy.getCvacPath(modelfile) ):\n",
    "    easy.putFile( fileserver, easy.getCvacPath(modelfile) )\n",
    "\n",
    "print(\"------- Remote detection, local result display: -------\")\n",
    "detector = easy.getDetector( \"OpenCVCascadeDetector:default -p 10102 \"+host )\n",
    "results = easy.detect( detector, modelfile, rs1 )\n",
    "easy.printResults( results )"
   ]
  },
  {
   "cell_type": "code",
   "execution_count": null,
   "metadata": {
    "collapsed": true
   },
   "outputs": [],
   "source": []
  }
 ],
 "metadata": {
  "kernelspec": {
   "display_name": "Python 2",
   "language": "python",
   "name": "python2"
  },
  "language_info": {
   "codemirror_mode": {
    "name": "ipython",
    "version": 2
   },
   "file_extension": ".py",
   "mimetype": "text/x-python",
   "name": "python",
   "nbconvert_exporter": "python",
   "pygments_lexer": "ipython2",
   "version": "2.7.6"
  }
 },
 "nbformat": 4,
 "nbformat_minor": 0
}
